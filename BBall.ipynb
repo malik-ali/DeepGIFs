{
 "cells": [
  {
   "cell_type": "markdown",
   "metadata": {},
   "source": [
    "# Ball is Life"
   ]
  },
  {
   "cell_type": "code",
   "execution_count": 1,
   "metadata": {},
   "outputs": [],
   "source": [
    "import torch\n",
    "import torch.nn as nn\n",
    "import torch.nn.init as init\n",
    "import torch.nn.functional as F\n",
    "import torch.optim as optim\n",
    "from torch.utils.data import DataLoader\n",
    "from torch.utils.data import sampler\n",
    "\n",
    "import torchvision\n",
    "import torchvision.datasets as dset\n",
    "import torchvision.transforms as transforms\n",
    "\n",
    "from src.utils.gan_trainer import ModelTrainer\n",
    "from src.utils.data_utils import NumpyGIFs\n",
    "from src.utils.gan_trainer import ModelTrainer\n",
    "from src.utils.initializer import Initializer\n",
    "\n",
    "from src.models.latent_lstm_vaegan import LatentLSTM\n",
    "from src.models.vaegan import VAEGAN_Gen, VAEGAN_Disc, Initializer\n",
    "\n",
    "from src.utils.vis_utils import *\n",
    "\n",
    "import numpy as np\n",
    "import os\n",
    "\n",
    "%load_ext autoreload\n",
    "%autoreload 2\n",
    "\n",
    "# TEST_MODEL_PATH = os.path.join(os.getcwd(), 'src', 'experiments', 'latent-lstm-gan')"
   ]
  },
  {
   "cell_type": "code",
   "execution_count": 2,
   "metadata": {},
   "outputs": [
    {
     "name": "stdout",
     "output_type": "stream",
     "text": [
      "Using device: cuda\n",
      "Using type: torch.float32\n"
     ]
    }
   ],
   "source": [
    "USE_GPU = True\n",
    "\n",
    "dtype = torch.float32\n",
    "if USE_GPU and torch.cuda.is_available():\n",
    "    device = torch.device('cuda')\n",
    "else:\n",
    "    device = torch.device('cpu')\n",
    "\n",
    "print('Using device:', device)\n",
    "print('Using type:', dtype)"
   ]
  },
  {
   "cell_type": "code",
   "execution_count": 3,
   "metadata": {},
   "outputs": [],
   "source": [
    "IMAGE_SZ = (64, 64)\n",
    "NUM_WORKERS = 4\n",
    "IMG_BATCH_SZ = 128\n",
    "GIF_BATCH_SZ = 64\n",
    "TRANSFORMS = transforms.Compose([transforms.ToTensor()])\n",
    "DISP_LIM = 8"
   ]
  },
  {
   "cell_type": "code",
   "execution_count": 4,
   "metadata": {},
   "outputs": [
    {
     "name": "stdout",
     "output_type": "stream",
     "text": [
      "Loading /home/mtroute/project/src/datasets/BBall/2/train.npy...\n",
      "Loaded 80000 examples.\n",
      "Loading /home/mtroute/project/src/datasets/BBall/2/val.npy...\n",
      "Loaded 10000 examples.\n"
     ]
    }
   ],
   "source": [
    "MAX_FRAMES = 10\n",
    "\n",
    "DATASET_ROOT = os.path.join(os.getcwd(), 'src', 'datasets', 'BBall', '2')\n",
    "train_set = NumpyGIFs(f'{DATASET_ROOT}/train.npy', temporality=True, transform=TRANSFORMS)\n",
    "val_set = NumpyGIFs(f'{DATASET_ROOT}/val.npy', temporality=True, transform=TRANSFORMS)"
   ]
  },
  {
   "cell_type": "code",
   "execution_count": 6,
   "metadata": {},
   "outputs": [],
   "source": [
    "BATCH_SZ = 32\n",
    "NUM_WORKERS = 4\n",
    "\n",
    "train_loader = DataLoader(train_set, batch_size=BATCH_SZ, \n",
    "                                 shuffle=True, drop_last=True, num_workers=NUM_WORKERS)\n",
    "\n",
    "val_loader = DataLoader(val_set, batch_size=BATCH_SZ, \n",
    "                               shuffle=True, drop_last=True, num_workers=NUM_WORKERS)"
   ]
  },
  {
   "cell_type": "code",
   "execution_count": null,
   "metadata": {},
   "outputs": [],
   "source": [
    "%matplotlib inline\n",
    "\n",
    "gif = iter(train_loader).next()[0]\n",
    "img_show(torchvision.utils.make_grid(gif))"
   ]
  },
  {
   "cell_type": "code",
   "execution_count": null,
   "metadata": {},
   "outputs": [],
   "source": [
    "import matplotlib.pyplot as plt\n",
    "\n",
    "def gif_show(gif):\n",
    "    npimg = gif.numpy()\n",
    "    out = np.transpose(npimg, (1, 2, 0))\n",
    "    plt.figure(figsize=(20,40))\n",
    "    plt.imshow(out)\n",
    "\n",
    "def sample(model, seed_frame, gif_length=10):\n",
    "    curr_h = model.init_hidden(BATCH_SZ)\n",
    "    curr_x = seed_frame.to(device=device, dtype=dtype)\n",
    "    model.eval()\n",
    "    ret = [seed_frame]\n",
    "    for i in range(gif_length - 1):\n",
    "        y, curr_h = model(curr_x, curr_h)\n",
    "        curr_x = y\n",
    "        ret.append(y.to(device = torch.device('cpu')))\n",
    "    return torch.stack(ret).transpose(0, 1)\n",
    "    \n",
    "def img_test_autoenc(model, loader):\n",
    "    model.eval()\n",
    "    dataiter = iter(loader)\n",
    "    x = dataiter.next()\n",
    "    x = x[0]\n",
    "    print (x.shape)\n",
    "    x = torch.tensor(x)\n",
    "    x = x.to(device=device, dtype=dtype)\n",
    "    y, mu, logvar = model(x)\n",
    "    x = x.to(torch.device('cpu')).detach()\n",
    "    y = torch.clamp(y.to(torch.device('cpu')).detach(), 0, 1)\n",
    "    imgs = torch.cat([x[:DISP_LIM], y[:DISP_LIM]])\n",
    "    print (imgs.shape)\n",
    "    gif_show(torchvision.utils.make_grid(imgs))\n",
    "    \n",
    "def gif_test_autoenc(model, loader):\n",
    "    model.eval()\n",
    "    dataiter = iter(loader)\n",
    "    x = dataiter.next()\n",
    "    x = x[:, 0, :, :, :]\n",
    "    x = x.to(device=device, dtype=dtype)\n",
    "    y, mu, logvar = model(x)\n",
    "    x = x.to(torch.device('cpu')).detach()\n",
    "    y = torch.clamp(y.to(torch.device('cpu')).detach(), 0, 1)\n",
    "    imgs = torch.cat([x[:DISP_LIM], y[:DISP_LIM]])\n",
    "    gif_show(torchvision.utils.make_grid(imgs))"
   ]
  },
  {
   "cell_type": "code",
   "execution_count": null,
   "metadata": {},
   "outputs": [],
   "source": [
    "LATENT_SIZE = 20\n",
    "VAEGAN_MODEL_PATH = os.path.join(os.getcwd(), 'src', 'experiments', 'vaegan-bball', '2')"
   ]
  },
  {
   "cell_type": "code",
   "execution_count": null,
   "metadata": {},
   "outputs": [],
   "source": [
    "def train_vaegan(gen_model, disc_model, g_optimizer, d_optimizer, x):\n",
    "    \n",
    "    criterion = nn.BCEWithLogitsLoss(size_average=True)\n",
    "    gan_reg = 1e-4 \n",
    "    kl_reg = 1e-8\n",
    "    disc_err_fake_reg = 1\n",
    "\n",
    "    gen_model.train()\n",
    "    disc_model.train()            \n",
    "\n",
    "    d_optimizer.zero_grad()\n",
    "\n",
    "    x = x[:, 0]\n",
    "    x = x.to(device=device, dtype=dtype)\n",
    "\n",
    "    recon_x, mu, logvar = gen_model(x)\n",
    "\n",
    "    rec_noise = gen_model.decoder(torch.randn(x.shape[0], LATENT_SIZE, device=device))  # TODO: magic numbers\n",
    "\n",
    "    logits_real = disc_model(x).squeeze()\n",
    "    logits_fake = disc_model(recon_x).squeeze()\n",
    "    logits_err = disc_model(rec_noise).squeeze()\n",
    "\n",
    "\n",
    "    all_ones = torch.ones(logits_real.shape[0], device=device)\n",
    "    all_zeros = torch.zeros(logits_real.shape[0], device=device)\n",
    "\n",
    "    # train discriminator\n",
    "    disc_err_real = criterion(logits_real, all_ones)\n",
    "    disc_err_fake = disc_err_fake_reg * criterion(logits_fake, all_zeros)\n",
    "    disc_err_noise = criterion(logits_err, all_zeros)     # random noise\n",
    "\n",
    "    disc_loss = disc_err_real + disc_err_fake\n",
    "\n",
    "    disc_loss.backward()\n",
    "    d_optimizer.step()\n",
    "\n",
    "    g_optimizer.zero_grad()\n",
    "    recon_x, mu, logvar = gen_model(x)\n",
    "\n",
    "    gen_logits_fake = disc_model(recon_x)\n",
    "    gen_logits_fake = gen_logits_fake.squeeze()\n",
    "\n",
    "    gen_loss_gan = gan_reg * criterion(gen_logits_fake, all_ones)\n",
    "    mse_loss = nn.MSELoss(size_average=True)\n",
    "    MSE = mse_loss(recon_x, x)            \n",
    "    KLD = kl_reg * (-0.5 * torch.sum(1 + logvar - mu.pow(2) - logvar.exp()))\n",
    "    gen_loss = MSE + KLD + gen_loss_gan\n",
    "\n",
    "    gen_loss.backward()\n",
    "    g_optimizer.step()\n",
    "    \n",
    "    gen_loss_str = f'recr: {MSE:.6f}, gan: {gen_loss_gan:.6f}'\n",
    "    disc_loss_str = f'real: {disc_err_real:.6f}, fake: {disc_err_fake:.6f}'    \n",
    "    \n",
    "    return gen_loss, disc_loss, gen_loss_str, disc_loss_str"
   ]
  },
  {
   "cell_type": "code",
   "execution_count": null,
   "metadata": {},
   "outputs": [],
   "source": [
    "NUM_CHANNELS = 1\n",
    "INPUT_SIZE = 64 * 64 * NUM_CHANNELS\n",
    "\n",
    "gen_vaegan = VAEGAN_Gen(latent_size=LATENT_SIZE, device=device, num_channels=NUM_CHANNELS)\n",
    "disc_vaegan = VAEGAN_Disc(latent_size=LATENT_SIZE, device=device, num_channels=NUM_CHANNELS)\n",
    "\n",
    "Initializer.initialize(model=gen_vaegan, initialization=init.xavier_uniform_, gain=init.calculate_gain('relu'))\n",
    "Initializer.initialize(model=disc_vaegan, initialization=init.xavier_uniform_, gain=init.calculate_gain('relu'))\n",
    "\n",
    "gen_vaegan_optimizer = optim.Adam(gen_vaegan.parameters(), lr=5e-4)\n",
    "disc_vaegan_optimizer = optim.Adam(disc_vaegan.parameters(), lr=5e-4)"
   ]
  },
  {
   "cell_type": "code",
   "execution_count": null,
   "metadata": {},
   "outputs": [],
   "source": [
    "try:\n",
    "    print('Starting training...')\n",
    "    trainer = ModelTrainer(gen_vaegan, disc_vaegan, gen_vaegan_optimizer, disc_vaegan_optimizer, train_vaegan, VAEGAN_MODEL_PATH, tags=[\"vaegan\", \"bball\"])\n",
    "    trainer.train(train_loader, epochs=2, print_every=1000)\n",
    "except KeyboardInterrupt:\n",
    "    print(\"Interrupting...\")\n",
    "    trainer.save_data(force_save=True)\n",
    "    \n",
    "trainer.save_data(force_save=True)\n",
    "print (\"Done.\")"
   ]
  },
  {
   "cell_type": "code",
   "execution_count": null,
   "metadata": {},
   "outputs": [],
   "source": [
    "img_test_autoenc(gen_vaegan, train_loader)"
   ]
  },
  {
   "cell_type": "code",
   "execution_count": null,
   "metadata": {},
   "outputs": [],
   "source": [
    "img_test_autoenc(gen_vaegan, val_loader)"
   ]
  },
  {
   "cell_type": "code",
   "execution_count": null,
   "metadata": {},
   "outputs": [],
   "source": [
    "def gen_image(model):\n",
    "    z = torch.randn((16, LATENT_SIZE), device=device)\n",
    "    y = model.decoder(z)\n",
    "    y = torch.clamp(y.to(torch.device('cpu')).detach(), 0, 1)\n",
    "    img_show(torchvision.utils.make_grid(y))\n",
    "    \n",
    "gen_image(gen_vaegan)"
   ]
  },
  {
   "cell_type": "code",
   "execution_count": null,
   "metadata": {},
   "outputs": [],
   "source": [
    "BATCH_IDX = 15\n",
    "BATCH_LIM = 1\n",
    "\n",
    "def vary_latent(init_z, step, length, dim, model, orig_img):\n",
    "    orig_img = orig_img.to(torch.device('cpu')).detach()\n",
    "\n",
    "    ret = []\n",
    "    curr_z = init_z.clone()\n",
    "    curr_z = curr_z.to(device=device)\n",
    "    \n",
    "    model.eval()\n",
    "    for batch in range(BATCH_LIM):\n",
    "        curr_z = init_z.clone()\n",
    "        ret.append(orig_img[batch]) \n",
    "        for i in range(length):\n",
    "            curr_z[:, dim] += step\n",
    "            y = model.decoder(curr_z)\n",
    "            y = torch.clamp(y.to(torch.device('cpu')).detach(), 0, 1)\n",
    "            ret.append(y[batch])\n",
    "    \n",
    "    gif_show(torchvision.utils.make_grid(torch.stack(ret)))\n",
    "        \n",
    "        \n",
    "    \n",
    "\n",
    "def get_latent_z(model, x):\n",
    "    enc_y = model.encoder(x)\n",
    "    mu, logvar = model.fc_mu(enc_y), model.fc_logvar(enc_y)\n",
    "    return model.sample_latent(mu, logvar)\n",
    "\n",
    "\n",
    "def sample_forward(model, z):\n",
    "    return model.decoder(z)\n",
    "\n",
    "\n",
    "def test_varying(model, loader):\n",
    "    model.eval()\n",
    "    dataiter = iter(loader)\n",
    "    x = dataiter.next()    \n",
    "    x = x[0]\n",
    "    x = x.to(device=device, dtype=dtype)\n",
    "\n",
    "    z = get_latent_z(model, x)\n",
    "    vary_latent(z, 4.0, 7, 2, model, x)\n",
    "    \n",
    "test_varying(gen_vaegan, train_loader)"
   ]
  },
  {
   "cell_type": "code",
   "execution_count": 15,
   "metadata": {
    "scrolled": false
   },
   "outputs": [],
   "source": [
    "DISP_LIM = 16\n",
    "\n",
    "def rescale(x):\n",
    "    low, high = x.min(), x.max()\n",
    "    x_rescaled = (x - low) / (high - low)\n",
    "    return x_rescaled\n",
    "\n",
    "\n",
    "def make_gif(model, seed_frame, gif_length=20):\n",
    "    curr_h = model.init_hidden(BATCH_SZ)\n",
    "    curr_x = seed_frame.to(device=device, dtype=dtype)\n",
    "    ret = [seed_frame]\n",
    "    \n",
    "    for i in range(gif_length - 1): \n",
    "        y, curr_h = model(curr_x, curr_h)\n",
    "        curr_x = y\n",
    "        ret.append(y.to(device = torch.device('cpu')))\n",
    "    \n",
    "    return torch.stack(ret).transpose(0, 1).squeeze()\n",
    "\n",
    "def test_lstm_eval(model, loader, counter):\n",
    "    model.eval()\n",
    "    dataiter = iter(loader)\n",
    "    x = dataiter.next()\n",
    "    \n",
    "    seeds = x[:, 0, :, :, :]\n",
    "    seeds = seeds.unsqueeze(1)\n",
    "    gif = make_gif(model, seeds)\n",
    "    \n",
    "    orig_gifs = torch.cat(tuple(x))[:DISP_LIM]\n",
    "    out_gifs = torch.cat(tuple(gif))[:DISP_LIM]\n",
    "    \n",
    "#     orig_gifs = x[0]\n",
    "#     out_gifs = gif[0]\n",
    "    out_gifs = out_gifs.clamp(0, 1).unsqueeze(1)    \n",
    "    \n",
    "#     save_as_gif (f\"./output/{counter}_real.gif\", orig_gifs.detach())\n",
    "#     save_as_gif (f\"./output/{counter}_fake.gif\", out_gifs.detach())\n",
    "    \n",
    "    img_show(torchvision.utils.make_grid(orig_gifs))\n",
    "    img_show(torchvision.utils.make_grid(out_gifs.detach()))\n",
    "\n",
    "def test_lstm_train(model, loader):\n",
    "    model.train()\n",
    "    dataiter = iter(loader)\n",
    "    x = dataiter.next()\n",
    "    x = x.to(device=device)\n",
    "    \n",
    "    orig_gifs = torch.cat(tuple(x))[:DISP_LIM]\n",
    "    orig_gifs = orig_gifs.cpu().detach()\n",
    "    \n",
    "    out_gifs, hidden_out = model(x, model.init_hidden(BATCH_SZ))\n",
    "    out_gifs = out_gifs[0]\n",
    "    out_gifs = out_gifs.clamp(0, 1)\n",
    "    out_gifs = out_gifs.cpu().detach()[:DISP_LIM]  \n",
    "    \n",
    "    img_show(torchvision.utils.make_grid(orig_gifs))\n",
    "    img_show(torchvision.utils.make_grid(out_gifs)) "
   ]
  },
  {
   "cell_type": "code",
   "execution_count": null,
   "metadata": {},
   "outputs": [],
   "source": [
    "def train_lstm(gen_model, disc_model, gen_optimizer, disc_optimizer, x):\n",
    "    \n",
    "    N, T, C, H, W = x.shape\n",
    "    \n",
    "    criterion = nn.BCEWithLogitsLoss(size_average=True)\n",
    "    gan_reg = 1e-4\n",
    "    kl_reg = 1e-8\n",
    "    disc_err_fake_reg = 1\n",
    "    \n",
    "    h0 = gen_model.init_hidden(BATCH_SZ)\n",
    "    \n",
    "    gen_model.train()\n",
    "    disc_model.train()            \n",
    "\n",
    "    disc_optimizer.zero_grad()\n",
    "\n",
    "    x = x.to(device=device, dtype=dtype)\n",
    "    \n",
    "    next_frames, _ = gen_model(x, h0)\n",
    "    \n",
    "    orig_x = x[:, 1:, :]\n",
    "    recon_x = next_frames[:, :-1, :]\n",
    "    \n",
    "    logits_real = disc_model(orig_x.contiguous().view(-1, C, H, W)).squeeze()\n",
    "    logits_fake = disc_model(recon_x.contiguous().view(-1, C, H, W)).squeeze()\n",
    "    \n",
    "    all_ones = torch.ones(logits_real.shape[0], device=device)\n",
    "    all_zeros = torch.zeros(logits_real.shape[0], device=device)\n",
    "    \n",
    "    disc_err_real = criterion(logits_real, all_ones)\n",
    "    disc_err_fake = disc_err_fake_reg * criterion(logits_fake, all_zeros)    \n",
    "    \n",
    "    disc_loss = disc_err_real + disc_err_fake    \n",
    "    \n",
    "    disc_loss.backward()\n",
    "    disc_optimizer.step()    \n",
    "    \n",
    "    # generator loss\n",
    "    gen_optimizer.zero_grad()    \n",
    "    \n",
    "    next_frames, _ = gen_model(x, h0)\n",
    "    recon_x = next_frames[:, :-1, :]\n",
    "    \n",
    "    gen_logits_fake = disc_model(recon_x.contiguous().view(-1, C, H, W)).squeeze()\n",
    "    gen_loss_gan = gan_reg * criterion(gen_logits_fake, all_ones)    \n",
    "    \n",
    "    MSE = F.mse_loss(orig_x, recon_x, size_average=True)\n",
    "    \n",
    "    gen_loss = MSE + gen_loss_gan\n",
    "    \n",
    "    gen_loss.backward()\n",
    "    gen_optimizer.step()\n",
    "    \n",
    "    gen_loss_str = f'recr: {MSE:.6f}, gan: {gen_loss_gan:.6f}'\n",
    "    disc_loss_str = f'real: {disc_err_real:.6f}, fake: {disc_err_fake:.6f}'    \n",
    "    \n",
    "    return gen_loss, disc_loss, gen_loss_str, disc_loss_str"
   ]
  },
  {
   "cell_type": "code",
   "execution_count": 7,
   "metadata": {},
   "outputs": [],
   "source": [
    "LATENT_SIZE = 20\n",
    "NUM_CHANNELS = 1\n",
    "INPUT_SIZE = IMAGE_SZ[0] * IMAGE_SZ[1] * NUM_CHANNELS   \n",
    "HIDDEN_SIZE = INPUT_SIZE\n",
    "OUTPUT_SIZE = INPUT_SIZE\n",
    "LSTMGAN_MODEL_PATH = os.path.join(os.getcwd(), 'src', 'experiments', 'lstmgan-bball')\n",
    "\n",
    "gen_lstm = LatentLSTM(latent_size=LATENT_SIZE, hidden_size=200, device=device, num_channels=NUM_CHANNELS, num_rnn_layers=1)\n",
    "disc_lstm = VAEGAN_Disc(latent_size=LATENT_SIZE, device=device, num_channels=NUM_CHANNELS)\n",
    "\n",
    "Initializer.initialize(model=gen_lstm, initialization=init.xavier_uniform_, gain=init.calculate_gain('relu'))\n",
    "Initializer.initialize(model=disc_lstm, initialization=init.xavier_uniform_, gain=init.calculate_gain('relu'))\n",
    "\n",
    "gen_lstm_optimizer = optim.Adam(gen_lstm.parameters(), lr=1e-3)\n",
    "disc_lstm_optimizer = optim.Adam(disc_lstm.parameters(), lr=1e-3)\n",
    "\n",
    "# trainer = ModelTrainer(gen_lstm, disc_lstm, gen_lstm_optimizer, disc_lstm_optimizer, train_lstm, LSTMGAN_MODEL_PATH, tags=[\"lstm\", \"lstm-gan\", \"bball\"])"
   ]
  },
  {
   "cell_type": "code",
   "execution_count": null,
   "metadata": {
    "scrolled": false
   },
   "outputs": [],
   "source": [
    "# trainer.train(train_loader, verbose=True, epochs=1, print_every=500)\n",
    "# trainer.save_data(force_save=True)"
   ]
  },
  {
   "cell_type": "code",
   "execution_count": 10,
   "metadata": {},
   "outputs": [],
   "source": [
    "# trainer.save_data(force_save=True)\n",
    "ModelTrainer.load_model(LSTMGAN_MODEL_PATH + '/experiment_7/checkpoints', gen_lstm, disc_lstm)"
   ]
  },
  {
   "cell_type": "code",
   "execution_count": 11,
   "metadata": {},
   "outputs": [],
   "source": [
    "counter = 7"
   ]
  },
  {
   "cell_type": "code",
   "execution_count": 32,
   "metadata": {
    "scrolled": false
   },
   "outputs": [
    {
     "name": "stdout",
     "output_type": "stream",
     "text": [
      "Train set performance, eval mode:\n"
     ]
    },
    {
     "data": {
      "image/png": "[encoded data removed]",
      "text/plain": [
       "<matplotlib.figure.Figure at 0x7f6f3598df98>"
      ]
     },
     "metadata": {},
     "output_type": "display_data"
    },
    {
     "data": {
      "image/png": "[encoded data removed]",
      "text/plain": [
       "<matplotlib.figure.Figure at 0x7f6f37a91fd0>"
      ]
     },
     "metadata": {},
     "output_type": "display_data"
    }
   ],
   "source": [
    "print ('Train set performance, eval mode:')\n",
    "\n",
    "test_lstm_eval(gen_lstm, train_loader, counter)\n",
    "counter += 1"
   ]
  },
  {
   "cell_type": "code",
   "execution_count": null,
   "metadata": {},
   "outputs": [],
   "source": [
    "print ('Train set performance, train mode:')\n",
    "test_lstm_train(gen_lstm, train_loader)"
   ]
  },
  {
   "cell_type": "code",
   "execution_count": null,
   "metadata": {},
   "outputs": [],
   "source": []
  }
 ],
 "metadata": {
  "kernelspec": {
   "display_name": "Python 3",
   "language": "python",
   "name": "python3"
  },
  "language_info": {
   "codemirror_mode": {
    "name": "ipython",
    "version": 3
   },
   "file_extension": ".py",
   "mimetype": "text/x-python",
   "name": "python",
   "nbconvert_exporter": "python",
   "pygments_lexer": "ipython3",
   "version": "3.6.4"
  }
 },
 "nbformat": 4,
 "nbformat_minor": 2
}
